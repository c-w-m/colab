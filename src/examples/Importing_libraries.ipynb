{
 "cells": [
  {
   "cell_type": "markdown",
   "metadata": {
    "colab_type": "text",
    "id": "view-in-github"
   },
   "source": [
    "<a href=\"https://colab.research.google.com/github/c-w-m/colab/blob/master/src/examples/Importing_libraries.ipynb\" target=\"_parent\"><img src=\"https://colab.research.google.com/assets/colab-badge.svg\" alt=\"Open In Colab\"/></a>"
   ]
  },
  {
   "cell_type": "markdown",
   "metadata": {
    "id": "kDn_lVxg3Z2G"
   },
   "source": [
    "# Importing a library that is not in Colaboratory\n",
    "\n",
    "To import a library that's not in Colaboratory by default, you can use `!pip install` or `!apt-get install`."
   ]
  },
  {
   "cell_type": "code",
   "execution_count": null,
   "metadata": {
    "id": "GQ18Kd5F3uKe"
   },
   "outputs": [],
   "source": [
    "!pip install matplotlib-venn"
   ]
  },
  {
   "cell_type": "code",
   "execution_count": null,
   "metadata": {
    "id": "__3eqm3q3sr-"
   },
   "outputs": [],
   "source": [
    "!apt-get -qq install -y libfluidsynth1"
   ]
  },
  {
   "cell_type": "markdown",
   "metadata": {
    "id": "apoRbfWsRZ7S"
   },
   "source": [
    "# Install 7zip reader [libarchive](https://pypi.python.org/pypi/libarchive) "
   ]
  },
  {
   "cell_type": "code",
   "execution_count": null,
   "metadata": {
    "id": "d_j7nNbKRmhx"
   },
   "outputs": [],
   "source": [
    "# https://pypi.python.org/pypi/libarchive\n",
    "!apt-get -qq install -y libarchive-dev && pip install -U libarchive\n",
    "import libarchive"
   ]
  },
  {
   "cell_type": "markdown",
   "metadata": {
    "id": "PeaSX9KXR58J"
   },
   "source": [
    "# Install GraphViz & [PyDot](https://pypi.python.org/pypi/pydot)"
   ]
  },
  {
   "cell_type": "code",
   "execution_count": null,
   "metadata": {
    "id": "w9llCG2wSRDx"
   },
   "outputs": [],
   "source": [
    "# https://pypi.python.org/pypi/pydot\n",
    "!apt-get -qq install -y graphviz && pip install pydot\n",
    "import pydot"
   ]
  },
  {
   "cell_type": "markdown",
   "metadata": {
    "id": "Tlh1MKxGrKFO"
   },
   "source": [
    "# Install [cartopy](http://scitools.org.uk/cartopy/docs/latest/)"
   ]
  },
  {
   "cell_type": "code",
   "execution_count": null,
   "metadata": {
    "id": "Zq68DSY2rP2W"
   },
   "outputs": [],
   "source": [
    "!pip install cartopy\n",
    "import cartopy"
   ]
  }
 ],
 "metadata": {
  "colab": {
   "collapsed_sections": [],
   "name": "Snippets: Importing libraries",
   "provenance": []
  },
  "kernelspec": {
   "display_name": "colab37",
   "language": "python",
   "name": "colab37"
  },
  "language_info": {
   "codemirror_mode": {
    "name": "ipython",
    "version": 3
   },
   "file_extension": ".py",
   "mimetype": "text/x-python",
   "name": "python",
   "nbconvert_exporter": "python",
   "pygments_lexer": "ipython3",
   "version": "3.7.10"
  }
 },
 "nbformat": 4,
 "nbformat_minor": 4
}
