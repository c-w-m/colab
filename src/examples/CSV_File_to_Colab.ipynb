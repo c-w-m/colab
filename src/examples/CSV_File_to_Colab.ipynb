{
 "cells": [
  {
   "cell_type": "markdown",
   "id": "d530d3ae",
   "metadata": {},
   "source": [
    "## [Get Started: 3 Ways to Load CSV files into Colab](https://towardsdatascience.com/3-ways-to-load-csv-files-into-colab-7c14fcbdcb92)\n",
    "\n",
    "### 1) Download File from GitHub (__Files < 25MB__)\n",
    "The easiest way to upload a CSV file is from your GitHub repository. Click on the dataset in your repository, then click on View Raw. Copy the link to the raw dataset and store it as a string variable called url in Colab as shown below (a cleaner method but it’s not necessary). The last step is to load the url into Pandas read_csv to get the dataframe.\n",
    "```python\n",
    "url = 'copied_raw_GH_link'\n",
    "df1 = pd.read_csv(url)\n",
    "# Dataset is now stored in a Pandas Dataframe\n",
    "```"
   ]
  },
  {
   "cell_type": "code",
   "execution_count": null,
   "id": "3894e7ab",
   "metadata": {},
   "outputs": [],
   "source": []
  },
  {
   "cell_type": "markdown",
   "id": "869ea42d",
   "metadata": {},
   "source": [
    "### 2) From a local drive\n",
    "To upload from your local drive, start with the following code:\n",
    "```python\n",
    "from google.colab import files\n",
    "uploaded = files.upload()\n",
    "```\n",
    "It will prompt you to select a file. Click on “Choose Files” then select and upload the file. Wait for the file to be 100% uploaded. You should see the name of the file once Colab has uploaded it.\n",
    "Finally, type in the following code to import it into a dataframe (make sure the filename matches the name of the uploaded file).\n",
    "```python\n",
    "import io\n",
    "df2 = pd.read_csv(io.BytesIO(uploaded['Filename.csv']))\n",
    "# Dataset is now stored in a Pandas Dataframe\n",
    "```"
   ]
  },
  {
   "cell_type": "code",
   "execution_count": null,
   "id": "2cff24b4",
   "metadata": {},
   "outputs": [],
   "source": []
  },
  {
   "cell_type": "markdown",
   "id": "dcb3eb02",
   "metadata": {},
   "source": [
    "### 3) From Google Drive via PyDrive\n",
    "This is the most complicated of the three methods. I’ll show it for those that have uploaded CSV files into their Google Drive for workflow control. First, type in the following code:\n",
    "```python\n",
    "# Code to read csv file into Colaboratory:\n",
    "!pip install -U -q PyDrive\n",
    "from pydrive.auth import GoogleAuth\n",
    "from pydrive.drive import GoogleDrive\n",
    "from google.colab import auth\n",
    "from oauth2client.client import GoogleCredentials\n",
    "\n",
    "# Authenticate and create the PyDrive client.\n",
    "auth.authenticate_user()\n",
    "gauth = GoogleAuth()\n",
    "gauth.credentials = GoogleCredentials.get_application_default()\n",
    "drive = GoogleDrive(gauth)\n",
    "```\n",
    "When prompted, click on the link to get authentication to allow Google to access your Drive. You should see a screen with “__Google Cloud SDK wants to access your Google Account__” at the top. After you allow permission, copy the given verification code and paste it in the box in Colab.\n",
    "\n",
    "Once you have completed verification, go to the CSV file in Google Drive, right-click on it and select “__Get shareable link__”. The link will be copied into your clipboard. Paste this link into a string variable in Colab.\n",
    "```python\n",
    "link = 'https://drive.google.com/open?id=1DPZZQ43w8brRhbEMolgLqOWKbZbE-IQu' # The shareable link\n",
    "```\n",
    "What you want is the id portion after the equal sign. To get that portion, type in the following code:\n",
    "```python\n",
    "fluff, id = link.split('=')\n",
    "print (id) # Verify that you have everything after '='\n",
    "```\n",
    "Finally, type in the following code to get this file into a dataframe\n",
    "```python\n",
    "downloaded = drive.CreateFile({'id':id}) \n",
    "downloaded.GetContentFile('Filename.csv')  \n",
    "df3 = pd.read_csv('Filename.csv')\n",
    "# Dataset is now stored in a Pandas Dataframe\n",
    "```"
   ]
  },
  {
   "cell_type": "code",
   "execution_count": null,
   "id": "997833ea",
   "metadata": {},
   "outputs": [],
   "source": []
  },
  {
   "cell_type": "markdown",
   "id": "1b7d6d4e",
   "metadata": {},
   "source": [
    "### Final Thoughts\n",
    "These are three approaches to uploading CSV files into Colab. Each has its benefits depending on the size of the file and how one wants to organize the workflow. Once the data is in a nicer format like a Pandas Dataframe, you are ready to go to work.\n"
   ]
  }
 ],
 "metadata": {
  "kernelspec": {
   "display_name": "anlp37",
   "language": "python",
   "name": "anlp37"
  },
  "language_info": {
   "codemirror_mode": {
    "name": "ipython",
    "version": 3
   },
   "file_extension": ".py",
   "mimetype": "text/x-python",
   "name": "python",
   "nbconvert_exporter": "python",
   "pygments_lexer": "ipython3",
   "version": "3.7.10"
  }
 },
 "nbformat": 4,
 "nbformat_minor": 5
}
